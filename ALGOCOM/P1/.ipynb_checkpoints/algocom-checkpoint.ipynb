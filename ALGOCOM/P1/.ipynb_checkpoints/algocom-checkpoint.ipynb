{
 "cells": [
  {
   "cell_type": "markdown",
   "metadata": {},
   "source": [
    "# Yes"
   ]
  },
  {
   "cell_type": "code",
   "execution_count": 1,
   "metadata": {},
   "outputs": [],
   "source": [
    "import random\n",
    "import time"
   ]
  },
  {
   "cell_type": "code",
   "execution_count": 2,
   "metadata": {},
   "outputs": [
    {
     "name": "stdout",
     "output_type": "stream",
     "text": [
      "2301.9931316375732\n",
      "Wall time: 2.3 s\n"
     ]
    }
   ],
   "source": [
    "%%time\n",
    "start = time.time()\n",
    "sorted_arr = []\n",
    "for i in range(1,10000001):\n",
    "    sorted_arr.append(i)\n",
    "end = time.time()\n",
    "rt = (end-start)*1000\n",
    "print(rt)"
   ]
  },
  {
   "cell_type": "code",
   "execution_count": 3,
   "metadata": {},
   "outputs": [],
   "source": [
    "size_arr = [100, 500, 1000, 5000, 10000, 25000, 50000, 75000, 100000, 300000, 500000, 750000, 1000000]"
   ]
  },
  {
   "cell_type": "code",
   "execution_count": 4,
   "metadata": {},
   "outputs": [],
   "source": [
    "def bin_search(size, item):\n",
    "    start = time.time()\n",
    "    low = 0\n",
    "    hi = size\n",
    "    while(low<=hi):\n",
    "        mid = int(low + (hi - low)/2)\n",
    "        if(item == sorted_arr[mid]):\n",
    "            end = time.time()\n",
    "            return {'found':True, 'time':(end-start)*1000}\n",
    "        elif(sorted_arr[mid] < item):\n",
    "            low = mid + 1\n",
    "        else:\n",
    "            hi = mid - 1\n",
    "    end = time.time()\n",
    "    return {'found':False, 'time':(end-start)*1000}"
   ]
  },
  {
   "cell_type": "code",
   "execution_count": 5,
   "metadata": {},
   "outputs": [],
   "source": [
    "def lin_search(size, item):\n",
    "    start = time.time()\n",
    "    for i in sorted_arr[:size]:\n",
    "        if(i == item):\n",
    "            end = time.time()\n",
    "            return {'found':True, 'time':(end-start)*1000}\n",
    "    end = time.time()\n",
    "    return {'found':False, 'time':(end-start)*1000}"
   ]
  },
  {
   "cell_type": "code",
   "execution_count": 6,
   "metadata": {},
   "outputs": [
    {
     "data": {
      "text/plain": [
       "{100: {'best time': 0.0,\n",
       "  'worst time': 0,\n",
       "  'avg': 0.0,\n",
       "  'found': 52,\n",
       "  'not found': 48},\n",
       " 500: {'best time': 0.0,\n",
       "  'worst time': 3.9920806884765625,\n",
       "  'avg': 0.039920806884765625,\n",
       "  'found': 53,\n",
       "  'not found': 47},\n",
       " 1000: {'best time': 0.0,\n",
       "  'worst time': 4.017114639282227,\n",
       "  'avg': 0.040171146392822266,\n",
       "  'found': 49,\n",
       "  'not found': 51},\n",
       " 5000: {'best time': 0.0,\n",
       "  'worst time': 4.047870635986328,\n",
       "  'avg': 0.19979000091552734,\n",
       "  'found': 45,\n",
       "  'not found': 55},\n",
       " 10000: {'best time': 0.0,\n",
       "  'worst time': 4.024028778076172,\n",
       "  'avg': 0.3193807601928711,\n",
       "  'found': 40,\n",
       "  'not found': 60},\n",
       " 25000: {'best time': 0.0,\n",
       "  'worst time': 4.0302276611328125,\n",
       "  'avg': 0.9189510345458984,\n",
       "  'found': 60,\n",
       "  'not found': 40},\n",
       " 50000: {'best time': 0.0,\n",
       "  'worst time': 4.021644592285156,\n",
       "  'avg': 1.358187198638916,\n",
       "  'found': 47,\n",
       "  'not found': 53},\n",
       " 75000: {'best time': 0.0,\n",
       "  'worst time': 4.023075103759766,\n",
       "  'avg': 2.037360668182373,\n",
       "  'found': 49,\n",
       "  'not found': 51},\n",
       " 100000: {'best time': 0.0,\n",
       "  'worst time': 4.020929336547852,\n",
       "  'avg': 2.6763272285461426,\n",
       "  'found': 54,\n",
       "  'not found': 46},\n",
       " 300000: {'best time': 0.0,\n",
       "  'worst time': 43.946266174316406,\n",
       "  'avg': 12.996556758880615,\n",
       "  'found': 56,\n",
       "  'not found': 44},\n",
       " 500000: {'best time': 3.997802734375,\n",
       "  'worst time': 47.92952537536621,\n",
       "  'avg': 19.65261459350586,\n",
       "  'found': 44,\n",
       "  'not found': 56},\n",
       " 750000: {'best time': 7.964134216308594,\n",
       "  'worst time': 111.8764877319336,\n",
       "  'avg': 31.865997314453125,\n",
       "  'found': 50,\n",
       "  'not found': 50},\n",
       " 1000000: {'best time': 11.980295181274414,\n",
       "  'worst time': 83.88853073120117,\n",
       "  'avg': 44.072628021240234,\n",
       "  'found': 43,\n",
       "  'not found': 57}}"
      ]
     },
     "execution_count": 6,
     "metadata": {},
     "output_type": "execute_result"
    }
   ],
   "source": [
    "main_dic = {}\n",
    "for size in size_arr:\n",
    "    dic = {}\n",
    "    best = 99999\n",
    "    found = []\n",
    "    worst = 0\n",
    "    fc = 0\n",
    "    search_arr = []\n",
    "    for i in range(100):\n",
    "        search_arr.append(random.randint(1,size*2))\n",
    "    for item in search_arr:\n",
    "        res = lin_search(size, item)\n",
    "        if(res['found']):\n",
    "            fc+=1\n",
    "        found.append(res['time'])\n",
    "        ct = res['time']\n",
    "        if(ct > worst):\n",
    "            worst = ct\n",
    "        if(ct < best):\n",
    "            best = ct\n",
    "    dic['best time'] = best\n",
    "    dic['worst time'] = worst\n",
    "    if(len(found)!=0):\n",
    "        dic['avg'] = sum(found)/len(found)\n",
    "    else:\n",
    "        dic['avg'] = 0\n",
    "    dic['found'] = fc\n",
    "    dic['not found'] = 100-fc\n",
    "    main_dic[size] = dic\n",
    "main_dic"
   ]
  },
  {
   "cell_type": "code",
   "execution_count": 7,
   "metadata": {},
   "outputs": [
    {
     "data": {
      "text/plain": [
       "{100: {'best time': 0.0,\n",
       "  'worst time': 3.9930343627929688,\n",
       "  'avg': 0.03993034362792969,\n",
       "  'found': 49,\n",
       "  'not found': 51},\n",
       " 500: {'best time': 0.0,\n",
       "  'worst time': 0,\n",
       "  'avg': 0.0,\n",
       "  'found': 50,\n",
       "  'not found': 50},\n",
       " 1000: {'best time': 0.0,\n",
       "  'worst time': 3.996610641479492,\n",
       "  'avg': 0.03996610641479492,\n",
       "  'found': 43,\n",
       "  'not found': 57},\n",
       " 5000: {'best time': 0.0,\n",
       "  'worst time': 0,\n",
       "  'avg': 0.0,\n",
       "  'found': 54,\n",
       "  'not found': 46},\n",
       " 10000: {'best time': 0.0,\n",
       "  'worst time': 0,\n",
       "  'avg': 0.0,\n",
       "  'found': 45,\n",
       "  'not found': 55},\n",
       " 25000: {'best time': 0.0,\n",
       "  'worst time': 3.993988037109375,\n",
       "  'avg': 0.03993988037109375,\n",
       "  'found': 46,\n",
       "  'not found': 54},\n",
       " 50000: {'best time': 0.0,\n",
       "  'worst time': 3.9932727813720703,\n",
       "  'avg': 0.0399327278137207,\n",
       "  'found': 52,\n",
       "  'not found': 48},\n",
       " 75000: {'best time': 0.0,\n",
       "  'worst time': 0,\n",
       "  'avg': 0.0,\n",
       "  'found': 53,\n",
       "  'not found': 47},\n",
       " 100000: {'best time': 0.0,\n",
       "  'worst time': 0,\n",
       "  'avg': 0.0,\n",
       "  'found': 53,\n",
       "  'not found': 47},\n",
       " 300000: {'best time': 0.0,\n",
       "  'worst time': 3.994464874267578,\n",
       "  'avg': 0.03994464874267578,\n",
       "  'found': 44,\n",
       "  'not found': 56},\n",
       " 500000: {'best time': 0.0,\n",
       "  'worst time': 4.030942916870117,\n",
       "  'avg': 0.04030942916870117,\n",
       "  'found': 49,\n",
       "  'not found': 51},\n",
       " 750000: {'best time': 0.0,\n",
       "  'worst time': 0,\n",
       "  'avg': 0.0,\n",
       "  'found': 55,\n",
       "  'not found': 45},\n",
       " 1000000: {'best time': 0.0,\n",
       "  'worst time': 0,\n",
       "  'avg': 0.0,\n",
       "  'found': 53,\n",
       "  'not found': 47}}"
      ]
     },
     "execution_count": 7,
     "metadata": {},
     "output_type": "execute_result"
    }
   ],
   "source": [
    "main_dic = {}\n",
    "for size in size_arr:\n",
    "    dic = {}\n",
    "    best = 99999\n",
    "    found = []\n",
    "    worst = 0\n",
    "    fc = 0\n",
    "    search_arr = []\n",
    "    for i in range(100):\n",
    "        search_arr.append(random.randint(1,size*2))\n",
    "    for item in search_arr:\n",
    "        res = bin_search(size, item)\n",
    "        if(res['found']):\n",
    "            fc+=1\n",
    "        found.append(res['time'])\n",
    "        ct = res['time']\n",
    "        if(ct > worst):\n",
    "            worst = ct\n",
    "        if(ct < best):\n",
    "            best = ct\n",
    "    dic['best time'] = best\n",
    "    dic['worst time'] = worst\n",
    "    if(len(found)!=0):\n",
    "        dic['avg'] = sum(found)/len(found)\n",
    "    else:\n",
    "        dic['avg'] = 0\n",
    "    dic['found'] = fc\n",
    "    dic['not found'] = 100-fc\n",
    "    main_dic[size] = dic\n",
    "main_dic"
   ]
  },
  {
   "cell_type": "code",
   "execution_count": null,
   "metadata": {},
   "outputs": [],
   "source": []
  }
 ],
 "metadata": {
  "kernelspec": {
   "display_name": "Python 3",
   "language": "python",
   "name": "python3"
  },
  "language_info": {
   "codemirror_mode": {
    "name": "ipython",
    "version": 3
   },
   "file_extension": ".py",
   "mimetype": "text/x-python",
   "name": "python",
   "nbconvert_exporter": "python",
   "pygments_lexer": "ipython3",
   "version": "3.7.0"
  }
 },
 "nbformat": 4,
 "nbformat_minor": 2
}
